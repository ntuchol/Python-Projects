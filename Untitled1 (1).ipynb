{
 "cells": [
  {
   "cell_type": "code",
   "execution_count": 9,
   "id": "24604a71-f83e-49e1-882a-380a1efa98b2",
   "metadata": {},
   "outputs": [],
   "source": [
    "moonMass = 33"
   ]
  },
  {
   "cell_type": "code",
   "execution_count": 11,
   "id": "989fa3c9-b09b-4f09-8165-7b9064e43de5",
   "metadata": {},
   "outputs": [],
   "source": [
    "everyYear = 2 "
   ]
  },
  {
   "cell_type": "code",
   "execution_count": 13,
   "id": "05ef8515-8800-44f2-ab17-fb281a9c94eb",
   "metadata": {},
   "outputs": [],
   "source": [
    "newYear = moonMass"
   ]
  },
  {
   "cell_type": "code",
   "execution_count": 15,
   "id": "8d5fb641-e8aa-4dfc-8c1e-71a3937687cd",
   "metadata": {},
   "outputs": [
    {
     "name": "stdout",
     "output_type": "stream",
     "text": [
      "My moon weight each year will be 35 pounds on year 1\n",
      "My moon weight each year will be 37 pounds on year 2\n",
      "My moon weight each year will be 39 pounds on year 3\n",
      "My moon weight each year will be 41 pounds on year 4\n",
      "My moon weight each year will be 43 pounds on year 5\n",
      "My moon weight each year will be 45 pounds on year 6\n",
      "My moon weight each year will be 47 pounds on year 7\n",
      "My moon weight each year will be 49 pounds on year 8\n",
      "My moon weight each year will be 51 pounds on year 9\n",
      "My moon weight each year will be 53 pounds on year 10\n",
      "My moon weight each year will be 55 pounds on year 11\n",
      "My moon weight each year will be 57 pounds on year 12\n",
      "My moon weight each year will be 59 pounds on year 13\n",
      "My moon weight each year will be 61 pounds on year 14\n",
      "My moon weight each year will be 63 pounds on year 15\n"
     ]
    }
   ],
   "source": [
    "for x in range(1, 16):\n",
    "    newYear = newYear + everyYear \n",
    "    print('My moon weight each year will be %s pounds on year %s' % (newYear, x))"
   ]
  },
  {
   "cell_type": "code",
   "execution_count": 19,
   "id": "a7805099-01f9-40bf-b5ac-8998953bc0eb",
   "metadata": {},
   "outputs": [],
   "source": [
    "def moon_weight(weight, increase):\n",
    "    for year in range(1, 16):\n",
    "        weight = weight + increase\n",
    "        moon_weight = weight * 0.165\n",
    "        print('Year %s is %s' % (year, moon_weight))\n",
    "        moon_weight(30, 0.5)"
   ]
  },
  {
   "cell_type": "code",
   "execution_count": 25,
   "id": "92e84de9-81b9-49fc-ab09-80dd0bed237d",
   "metadata": {},
   "outputs": [
    {
     "name": "stdout",
     "output_type": "stream",
     "text": [
      "Year 1 is 5.8245\n",
      "Year 2 is 5.874\n",
      "Year 3 is 5.923499999999999\n",
      "Year 4 is 5.972999999999998\n",
      "Year 5 is 6.022499999999998\n"
     ]
    }
   ],
   "source": [
    "def moon_weight(weight, increase, years):\n",
    "    years = years + 1\n",
    "    for year in range(1, years):\n",
    "         weight = weight + increase\n",
    "         moon_weight = weight * 0.165\n",
    "         print('Year %s is %s' % (year, moon_weight))\n",
    "moon_weight(35, 0.3, 5)"
   ]
  },
  {
   "cell_type": "code",
   "execution_count": 27,
   "id": "cf81ee25-e82f-48d6-ac99-19af98a44192",
   "metadata": {},
   "outputs": [
    {
     "name": "stdout",
     "output_type": "stream",
     "text": [
      "Year 1 is 14.891250000000001\n",
      "Year 2 is 14.932500000000001\n",
      "Year 3 is 14.97375\n",
      "Year 4 is 15.015\n",
      "Year 5 is 15.05625\n"
     ]
    }
   ],
   "source": [
    "moon_weight(90, 0.25, 5)"
   ]
  },
  {
   "cell_type": "code",
   "execution_count": 33,
   "id": "dae18a4f-cb05-4dd9-9708-bee1c55c2f92",
   "metadata": {},
   "outputs": [],
   "source": [
    "import sys"
   ]
  },
  {
   "cell_type": "code",
   "execution_count": 44,
   "id": "6f255aa6-4d6e-4101-801e-d66c4f8d7d29",
   "metadata": {},
   "outputs": [],
   "source": [
    "def moon_weight():\n",
    "        print('Please enter your current Earth weight')\n",
    "        weight = float(sys.stdin.readline())\n",
    "        print('Please enter the amount your weight might increase each year')\n",
    "        increase = float(sys.stdin.readline())\n",
    "        print('Please enter the number of years')\n",
    "        years = int(sys.stdin.readline())\n",
    "        years = years + 1\n",
    "        for year in range(1, years):\n",
    "            weight = weight + increase\n",
    "            moon_weight = weight*0.165\n",
    "            print('Year %s is %s' % (year, moon_weight))"
   ]
  },
  {
   "cell_type": "code",
   "execution_count": null,
   "id": "0be540ab-f3a5-4898-af94-ca78258ca067",
   "metadata": {},
   "outputs": [],
   "source": [
    "moon_weight()"
   ]
  },
  {
   "cell_type": "code",
   "execution_count": 46,
   "id": "bcca3c97-f404-40ce-bf84-db927d1472bc",
   "metadata": {},
   "outputs": [
    {
     "data": {
      "text/plain": [
       "45"
      ]
     },
     "execution_count": 46,
     "metadata": {},
     "output_type": "execute_result"
    }
   ],
   "source": [
    "45"
   ]
  },
  {
   "cell_type": "code",
   "execution_count": 51,
   "id": "b88fee8a-0ee0-493f-b0c9-e74c74057dec",
   "metadata": {},
   "outputs": [],
   "source": [
    "class Animals:\n",
    "     def breathe(self):\n",
    "         print('breathing')\n",
    "     def move(self):\n",
    "         print('moving')\n",
    "     def eat_food(self):\n",
    "         print('eating food')"
   ]
  },
  {
   "cell_type": "code",
   "execution_count": 53,
   "id": "5c03b887-26ee-42d0-9cd8-32c32bf63269",
   "metadata": {},
   "outputs": [],
   "source": [
    "class Mammals(Animals):\n",
    "    def feed_young_with_milk(self):\n",
    "         print('feeding young')"
   ]
  },
  {
   "cell_type": "code",
   "execution_count": 55,
   "id": "2e6e717f-2ed1-4aed-bb83-25547237da52",
   "metadata": {},
   "outputs": [],
   "source": [
    "class Giraffes(Mammals):\n",
    "    def eat_leaves_from_trees(self):\n",
    "         print('eating leaves')"
   ]
  },
  {
   "cell_type": "code",
   "execution_count": 57,
   "id": "55088525-fab9-4d72-a6c0-68dae18ac2a0",
   "metadata": {},
   "outputs": [],
   "source": [
    "def left_foot_forward(self):\n",
    "     print('left foot forward')\n",
    "def right_foot_forward(self):\n",
    "     print('right foot forward')\n",
    "def left_foot_backward(self):\n",
    "     print('left foot back')\n",
    "def right_foot_backward(self):\n",
    "     print('right foot back')"
   ]
  },
  {
   "cell_type": "code",
   "execution_count": 59,
   "id": "ac275e3d-1f52-4f98-893c-427b0e046f70",
   "metadata": {},
   "outputs": [],
   "source": [
    "def dance(self):\n",
    "     self.left_foot_forward()\n",
    "     self.left_foot_backward()\n",
    "     self.right_foot_forward()\n",
    "     self.right_foot_backward()\n",
    "     self.left_foot_backward()\n",
    "     self.right_foot_backward()\n",
    "     self.right_foot_forward()\n",
    "     self.left_foot_forward()"
   ]
  },
  {
   "cell_type": "code",
   "execution_count": 71,
   "id": "2390bfb3-ba38-491e-9fe7-3a74fa9a3bac",
   "metadata": {},
   "outputs": [],
   "source": [
    "reginald = Giraffes()"
   ]
  },
  {
   "cell_type": "code",
   "execution_count": 75,
   "id": "8d5c24c6-7a54-406b-9aae-8937bf935461",
   "metadata": {},
   "outputs": [],
   "source": [
    "import turtle"
   ]
  },
  {
   "cell_type": "code",
   "execution_count": 79,
   "id": "86bfbc44-b2ad-4325-b1bb-275586783ba8",
   "metadata": {},
   "outputs": [],
   "source": [
    "a = abs(10) + abs(-10)"
   ]
  },
  {
   "cell_type": "code",
   "execution_count": 81,
   "id": "c3896bd4-2411-4c70-91a1-6809b46c1b3d",
   "metadata": {},
   "outputs": [
    {
     "name": "stdout",
     "output_type": "stream",
     "text": [
      "20\n"
     ]
    }
   ],
   "source": [
    "print(a)"
   ]
  },
  {
   "cell_type": "code",
   "execution_count": 83,
   "id": "ab538a1c-f1ba-4051-b11d-639bbd101dc9",
   "metadata": {},
   "outputs": [],
   "source": [
    " b = abs(-10) + -10"
   ]
  },
  {
   "cell_type": "code",
   "execution_count": 85,
   "id": "4777990c-21d7-4184-bd20-ba65f2ba42ac",
   "metadata": {},
   "outputs": [
    {
     "name": "stdout",
     "output_type": "stream",
     "text": [
      "0\n"
     ]
    }
   ],
   "source": [
    "print(b)"
   ]
  },
  {
   "cell_type": "code",
   "execution_count": 97,
   "id": "b84e4e82-0046-47a1-8149-f0f7ae81693c",
   "metadata": {},
   "outputs": [],
   "source": [
    "import pickle\n",
    "favorites = ['PlayStation', 'Fudge', 'Movies', 'Python for Kids']\n",
    "f = open('favorites.dat', 'wb')\n",
    "pickle.dump(favorites, f)\n",
    "f.close()"
   ]
  },
  {
   "cell_type": "code",
   "execution_count": 101,
   "id": "458407fa-1a41-4863-ad5d-247a38573d32",
   "metadata": {},
   "outputs": [
    {
     "name": "stdout",
     "output_type": "stream",
     "text": [
      "['PlayStation', 'Fudge', 'Movies', 'Python for Kids']\n"
     ]
    }
   ],
   "source": [
    "import pickle\n",
    "f = open('favorites.dat', 'rb')\n",
    "favorites = pickle.load(f)\n",
    "print(favorites)"
   ]
  },
  {
   "cell_type": "code",
   "execution_count": 117,
   "id": "31fcf47c-66ff-490f-aaf3-9f669dbf9320",
   "metadata": {},
   "outputs": [],
   "source": [
    "def random_triangle():\n",
    "     p1 = random.randrange(w)\n",
    "     p2 = random.randrange(h)\n",
    "     p3 = random.randrange(w)\n",
    "     p4 = random.randrange(h)\n",
    "     p5 = random.randrange(w)\n",
    "     p6 = random.randrange(h)\n",
    "     canvas.create_polygon(p1, p2, p3, p4, p5, p6, \\\n",
    "         fill=\"\", outline=\"black\")"
   ]
  },
  {
   "cell_type": "code",
   "execution_count": 127,
   "id": "f005a438-9fd2-4b59-b62d-c2b7a216c422",
   "metadata": {},
   "outputs": [],
   "source": [
    "def random_triangle():\n",
    " p1 = random.randrange(w)\n",
    " p2 = random.randrange(h)\n",
    " p3 = random.randrange(w)\n",
    " p4 = random.randrange(h)\n",
    " p5 = random.randrange(w)\n",
    " p6 = random.randrange(h)\n",
    " color = random.choice(colors)\n",
    " canvas.create_polygon(p1, p2, p3, p4, p5, p6, \\\n",
    " fill=color, outline=\"\")"
   ]
  },
  {
   "cell_type": "code",
   "execution_count": 149,
   "id": "dd6ba235-4ffb-479b-8057-5e65e634066c",
   "metadata": {},
   "outputs": [],
   "source": [
    "class Score:\n",
    "    def __init__(self, canvas, color):\n",
    "        self.score = 0\n",
    "        self.canvas = canvas\n",
    "        self.id = canvas.create_text(450, 10, text=self.score, \\\n",
    "            fill=color)"
   ]
  },
  {
   "cell_type": "code",
   "execution_count": 151,
   "id": "e9dc811f-f6fa-4469-9bca-bd3c43b808df",
   "metadata": {},
   "outputs": [],
   "source": [
    "def hit(self):\n",
    "    self.score += 1\n",
    "    self.canvas.itemconfig(self.id, text=self.score)"
   ]
  },
  {
   "cell_type": "code",
   "execution_count": 155,
   "id": "1b75b759-33a1-45d1-bf69-348376a20c66",
   "metadata": {},
   "outputs": [],
   "source": [
    "def __init__(self, canvas, paddle, score, color):\n",
    "    self.score = score"
   ]
  },
  {
   "cell_type": "code",
   "execution_count": null,
   "id": "4ede5ea3-d4ab-43e9-8fb6-3195e92d65ef",
   "metadata": {},
   "outputs": [],
   "source": [
    "\n"
   ]
  }
 ],
 "metadata": {
  "kernelspec": {
   "display_name": "anaconda-2024.02-py310",
   "language": "python",
   "name": "conda-env-anaconda-2024.02-py310-py"
  },
  "language_info": {
   "codemirror_mode": {
    "name": "ipython",
    "version": 3
   },
   "file_extension": ".py",
   "mimetype": "text/x-python",
   "name": "python",
   "nbconvert_exporter": "python",
   "pygments_lexer": "ipython3",
   "version": "3.10.14"
  }
 },
 "nbformat": 4,
 "nbformat_minor": 5
}
