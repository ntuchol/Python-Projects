{
 "cells": [
  {
   "cell_type": "code",
   "execution_count": 122,
   "metadata": {
    "collapsed": true
   },
   "outputs": [],
   "source": [
    "# Import the packages\n",
    "import numpy as np\n",
    "import math"
   ]
  },
  {
   "cell_type": "code",
   "execution_count": 95,
   "metadata": {
    "collapsed": true
   },
   "outputs": [],
   "source": [
    "# Define the parameters\n",
    "size   = 1000\n",
    "trials = 1000"
   ]
  },
  {
   "cell_type": "code",
   "execution_count": 125,
   "metadata": {
    "collapsed": true
   },
   "outputs": [],
   "source": [
    "def get_optimal_stop(sample_size, stop_value = 1/math.e):\n",
    "    return int(sample_size*stop_value)"
   ]
  },
  {
   "cell_type": "code",
   "execution_count": 53,
   "metadata": {
    "collapsed": true
   },
   "outputs": [],
   "source": [
    "def create_pool(sample_size):\n",
    "    return np.array(np.random.permutation(size))"
   ]
  },
  {
   "cell_type": "code",
   "execution_count": 115,
   "metadata": {},
   "outputs": [],
   "source": [
    "def look_stage(pool, stop):\n",
    "    #return np.argmax(pool[0:stop])\n",
    "    best_look = 0\n",
    "    for i in range(len(pool[0:stop])):\n",
    "        if pool[i] > pool[best_look]:\n",
    "            best_look = i\n",
    "    return best_look"
   ]
  },
  {
   "cell_type": "code",
   "execution_count": 126,
   "metadata": {
    "collapsed": true
   },
   "outputs": [],
   "source": [
    "def commit_stage(pool, stop, best):\n",
    "    for i in list(range(stop, len(pool))):\n",
    "        if pool[i] > pool[best]:\n",
    "            return i\n",
    "    return i"
   ]
  },
  {
   "cell_type": "code",
   "execution_count": 111,
   "metadata": {
    "collapsed": true
   },
   "outputs": [],
   "source": [
    "def best_of_all(pool):\n",
    "    #return np.argmax(pool)\n",
    "    best_candidate = 0\n",
    "    for i in range(len(pool)):\n",
    "        if pool[i] > pool[best_candidate]:\n",
    "            best_candidate = i\n",
    "    return best_candidate"
   ]
  },
  {
   "cell_type": "code",
   "execution_count": 52,
   "metadata": {
    "collapsed": true
   },
   "outputs": [],
   "source": [
    "# Define the split base on the optimal stop\n",
    "optimal_stop = get_optimal_stop(size)"
   ]
  },
  {
   "cell_type": "code",
   "execution_count": 59,
   "metadata": {
    "collapsed": true
   },
   "outputs": [],
   "source": [
    "def one_round():\n",
    "    # Generate the pool of candidates, permuting the skills\n",
    "    secretaries = create_pool(size)\n",
    "\n",
    "    # Look stage, defining the threashold\n",
    "    best_look = look_stage(secretaries, optimal_stop)\n",
    "\n",
    "    # Chooses the first candidate better than the best from the look stage\n",
    "    chosen_candidate = commit_stage(secretaries, optimal_stop, best_look)\n",
    "    \n",
    "    # Assign the best candidate\n",
    "    best_candidate = best_of_all(secretaries)\n",
    "    \n",
    "    # Check if the best was chosen\n",
    "    if chosen_candidate == best_candidate:\n",
    "        return 1\n",
    "    else:\n",
    "        return 0"
   ]
  },
  {
   "cell_type": "code",
   "execution_count": 121,
   "metadata": {},
   "outputs": [
    {
     "name": "stdout",
     "output_type": "stream",
     "text": [
      "In 1000 trials, the optimal decision was made 37.9% of the time.\n"
     ]
    }
   ],
   "source": [
    "# Define the split base on the optimal stop\n",
    "optimal_stop = get_optimal_stop(size)\n",
    "\n",
    "cont = 0\n",
    "for t in list(range(trials)):\n",
    "    cont = cont + one_round()\n",
    "print ('In {} trials, the optimal decision was made {}% of the time.'.format(trials, cont/trials*100))"
   ]
  },
  {
   "cell_type": "code",
   "execution_count": null,
   "metadata": {},
   "outputs": [],
   "source": []
  },
  {
   "cell_type": "code",
   "execution_count": null,
   "metadata": {},
   "outputs": [],
   "source": []
  },
  {
   "cell_type": "code",
   "execution_count": null,
   "metadata": {},
   "outputs": [],
   "source": []
  },
  {
   "cell_type": "code",
   "execution_count": null,
   "metadata": {},
   "outputs": [],
   "source": []
  },
  {
   "cell_type": "code",
   "execution_count": null,
   "metadata": {},
   "outputs": [],
   "source": []
  },
  {
   "cell_type": "code",
   "execution_count": null,
   "metadata": {},
   "outputs": [],
   "source": []
  },
  {
   "cell_type": "code",
   "execution_count": null,
   "metadata": {},
   "outputs": [],
   "source": []
  },
  {
   "cell_type": "code",
   "execution_count": null,
   "metadata": {},
   "outputs": [],
   "source": []
  },
  {
   "cell_type": "code",
   "execution_count": null,
   "metadata": {},
   "outputs": [],
   "source": []
  },
  {
   "cell_type": "code",
   "execution_count": null,
   "metadata": {
    "collapsed": true
   },
   "outputs": [],
   "source": []
  }
 ],
 "metadata": {
  "kernelspec": {
   "display_name": "Python 3",
   "language": "python",
   "name": "python3"
  },
  "language_info": {
   "codemirror_mode": {
    "name": "ipython",
    "version": 3
   },
   "file_extension": ".py",
   "mimetype": "text/x-python",
   "name": "python",
   "nbconvert_exporter": "python",
   "pygments_lexer": "ipython3",
   "version": "3.6.2"
  }
 },
 "nbformat": 4,
 "nbformat_minor": 2
}
